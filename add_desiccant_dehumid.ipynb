{
 "cells": [
  {
   "cell_type": "markdown",
   "metadata": {},
   "source": [
    "# Part 1 - Implementing Dehumidification in OpenStudio\n",
    "\n",
    "To evaluate the impact of water-based dehumidification, a custom HVAC system was configured using OpenStudio. The following workflow outlines the detailed setup and adjustments performed to incorporate humidity control into the building energy model.\n",
    "\n",
    "### A. Model Initialization\n",
    "\n",
    "A baseline OpenStudio Model (OSM) file named `CDD-watercoil.osm` was created, representing the building geometry and thermal zoning. This model served as the foundation for integrating humidity control strategies.\n",
    "\n",
    "### B. Air Loop Configuration\n",
    "\n",
    "An air loop HVAC system was added with the following components:\n",
    "- A variable volume supply fan.\n",
    "- A **Coil:Cooling:Water** for latent and sensible cooling.\n",
    "- A gas heating coil for reheating.\n",
    "- A **SetpointManager:SingleZone:Reheat** for temperature control.\n",
    "\n",
    "Additionally, an **AirTerminal:SingleDuct:Reheat** with electric reheat was connected to the zone.\n",
    "\n",
    "To control indoor humidity levels, a **SetpointManager:SingleZone:Humidity:Maximum** was placed at the outlet node of the cooling water coil. This manager sets a maximum humidity ratio in the zone to prevent over-humidification.\n",
    "\n",
    "### C. Plant Loop Configuration\n",
    "\n",
    "A dedicated plant loop was created to serve the **Coil:Cooling:Water**. The plant loop included:\n",
    "- A variable speed pump.\n",
    "- A **Chiller:Electric:EIR** for chilled water production.\n",
    "- A **SetpointManager:Scheduled** to maintain the chilled water supply temperature.\n",
    "\n",
    "To allow system bypass during part-load conditions, adiabatic bypass pipes were added for both the chiller and the cooling coil branches.\n",
    "\n",
    "### D. Model Simulation\n",
    "\n",
    "The model was simulated using OpenStudio’s standard EnergyPlus engine to verify the system’s functionality and ensure humidity control components were operational.\n",
    "\n",
    "### E. IDF File Post-Processing\n",
    "\n",
    "After the simulation, the generated EnergyPlus IDF file was exported from OpenStudio for refinement. The following modifications were made to enhance humidity control:\n",
    "\n",
    "- The `Controller:WaterCoil` object associated with the cooling coil was updated by changing the `Control Variable` from `Temperature` to `TemperatureAndHumidity`, enabling the controller to respond to both sensible and latent loads.\n",
    "- The simulation `Timestep` was adjusted from the default value to **1 minute** (i.e., 60 timesteps per hour), ensuring higher resolution in tracking rapid humidity fluctuations.\n",
    "\n",
    "These enhancements allowed more precise humidity regulation and accurate assessment of the dehumidification system's performance.\n"
   ]
  },
  {
   "cell_type": "markdown",
   "metadata": {},
   "source": [
    "# Part 2 - Editing IDF file to include Desiccant Dehumidifier.\n",
    "- We need to change `Control Variable` of `Controller:WaterCoil` back to `Temperature` so that cooling based Dehumidification **disabled**.\n",
    "## 1. Copy file from one directorty and added extension to name"
   ]
  },
  {
   "cell_type": "code",
   "execution_count": 1,
   "metadata": {},
   "outputs": [],
   "source": [
    "import os \n",
    "import subprocess\n",
    "# Change the current working directory\n",
    "os.chdir(r\"C:\\Users\\Jayedi Aman\\OneDrive - University of Missouri\\Desktop\\OPENSTUDIO\\CDD-Desiccant\")"
   ]
  },
  {
   "cell_type": "code",
   "execution_count": 2,
   "metadata": {},
   "outputs": [],
   "source": [
    "import os\n",
    "import shutil\n",
    "from pathlib import Path\n",
    "import glob\n",
    "\n",
    "def copy_to_dir(dir1, dir2, file_type='idf', extension='copied.'):\n",
    "    \"\"\"\n",
    "    Copies files from `dir1` to `dir2` after adding a custom extension.\n",
    "    \n",
    "    Parameters:\n",
    "        dir1 (str): Source directory containing files to copy.\n",
    "        dir2 (str): Destination directory where files will be copied.\n",
    "        file_type (str): File type to filter for copying (default is 'idf').\n",
    "        extension (str): Extension to add to copied files (default is 'copied.').\n",
    "        \n",
    "    Returns:\n",
    "        None: The function performs the copying task and does not return any value.\n",
    "    \"\"\"\n",
    "    # Change directory to old idf files to work with\n",
    "    os.chdir(dir1)\n",
    "    # Getting names of all idf files only\n",
    "    files = glob.glob(\"*\"+file_type)\n",
    "\n",
    "    # Loop to edinting name (copied extension) and saves file to new directory\n",
    "    for file in files:\n",
    "        # print(file)\n",
    "        # print(\"*\"*20)\n",
    "        st1 = file.split(\".\")[0]\n",
    "        st2 = st1 + extension + file.split(\".\")[1]\n",
    "        # print(st2)\n",
    "        # print(\"*\"*20)\n",
    "        new_dir = os.path.join(dir2, st2)\n",
    "        shutil.copyfile(file, new_dir)"
   ]
  },
  {
   "cell_type": "code",
   "execution_count": 3,
   "metadata": {},
   "outputs": [],
   "source": [
    "import os\n",
    "# # Paths\n",
    "\n",
    "dir1 = r\"C:\\Users\\Jayedi Aman\\OneDrive - University of Missouri\\Desktop\\OPENSTUDIO\\CDD-Desiccant\"\n",
    "dir2 = r\"C:\\Users\\Jayedi Aman\\OneDrive - University of Missouri\\Desktop\\OPENSTUDIO\\CDD-Desiccant\\New folder\"\n",
    "copy_to_dir(dir1, dir2,file_type='idf', extension='_copied.')"
   ]
  },
  {
   "cell_type": "markdown",
   "metadata": {},
   "source": [
    "## 2. Finding idf file names in the directory"
   ]
  },
  {
   "cell_type": "code",
   "execution_count": 4,
   "metadata": {},
   "outputs": [
    {
     "name": "stdout",
     "output_type": "stream",
     "text": [
      "['5ZoneBaseboardDehumid_copied.idf', 'CDD-desiccant-airloop_copied.idf', 'CDD-watercoil-dehumid_copied.idf', 'CDD-watercoil-Nodehumid_copied.idf']\n"
     ]
    }
   ],
   "source": [
    "## List of idf in a folder\n",
    "import os\n",
    "def idf_file_list(file_path):\n",
    "    # Import necessary libraries\n",
    "    import os, glob, shutil\n",
    "    # Change directory to old idf files to work with\n",
    "    os.chdir(file_path)\n",
    "\n",
    "    # Getting names of all idf files only\n",
    "    files = glob.glob(\"*.idf\")\n",
    "    return files\n",
    "\n",
    "file_path = dir2\n",
    "idf_files = idf_file_list(file_path)\n",
    "print(idf_files)"
   ]
  },
  {
   "cell_type": "markdown",
   "metadata": {},
   "source": [
    "## 3. Find the Branch Objects of AirLoopHVAC\n",
    "\n",
    "We need to Branch of AirLoopHVAC to include Desiccant Dehumidifer Object into main Air Loop.\n",
    "- Add \"Dehumidifier:Desiccant:NoFans as components 11.\n",
    "- Add \"Component 2 Outlet Node\" to Desiccant Process Air Inlet Node\n",
    "- Add \"Process Air Outlet Node\" to Desiccant object outlet \n",
    "- Add \"Process Air Outlet Node\" to Component 3 (Coil:Cooling:Water) Inlet Node\n",
    "\n",
    "First, we need to find the Branch object associated with AirLoopHVAC. The following procedure we follow.\n",
    "- Find the \"Branch List Name\" from AirLoopHVAC [index = i+6]\n",
    "- Find the BranchList object named \"Branch List Name\" \n",
    "- Find the \"Branch Name\" from BranchList [index = i+1]\n",
    "\n",
    "From the \"Branch Name\" related to AirLoopHVAC we will get the Branch object. Copy all lines of this object and save as branch_lines.\n",
    "\n",
    "Then we need to copy fan_outlet_node from Branch. "
   ]
  },
  {
   "cell_type": "code",
   "execution_count": 5,
   "metadata": {},
   "outputs": [
    {
     "data": {
      "text/plain": [
       "'CDD-watercoil-Nodehumid_copied.idf'"
      ]
     },
     "execution_count": 5,
     "metadata": {},
     "output_type": "execute_result"
    }
   ],
   "source": [
    "idf_file = idf_files[-1]\n",
    "idf_file"
   ]
  },
  {
   "cell_type": "code",
   "execution_count": 6,
   "metadata": {},
   "outputs": [
    {
     "name": "stdout",
     "output_type": "stream",
     "text": [
      "Branch 1 Name: Air Loop HVAC Main Branch\n",
      "\n",
      "Full Branch Object:\n",
      "\n",
      "Branch,\n",
      "    Air Loop HVAC Main Branch,  !- Name\n",
      "    ,                        !- Pressure Drop Curve Name\n",
      "    AirLoopHVAC:OutdoorAirSystem,  !- Component 1 Object Type\n",
      "    OA System,               !- Component 1 Name\n",
      "    Sup Inlet Node,          !- Component 1 Inlet Node Name\n",
      "    Mixwd Air Node,          !- Component 1 Outlet Node Name\n",
      "    Fan:VariableVolume,      !- Component 2 Object Type\n",
      "    Var Spd Fan,             !- Component 2 Name\n",
      "    Mixwd Air Node,          !- Component 2 Inlet Node Name\n",
      "    Cool Inlet Node,         !- Component 2 Outlet Node Name\n",
      "    Coil:Cooling:Water,      !- Component 3 Object Type\n",
      "    CHW Clg Coil,            !- Component 3 Name\n",
      "    Cool Inlet Node,         !- Component 3 Inlet Node Name\n",
      "    Cool Outlet Node,        !- Component 3 Outlet Node Name\n",
      "    Coil:Heating:Fuel,       !- Component 4 Object Type\n",
      "    Gas Htg Coil,            !- Component 4 Name\n",
      "    Cool Outlet Node,        !- Component 4 Inlet Node Name\n",
      "    Sup Outlet Node;         !- Component 4 Outlet Node Name\n",
      "\n"
     ]
    }
   ],
   "source": [
    "def clean_idf_value(line):\n",
    "    # Remove comments and trailing punctuation\n",
    "    return line.split(\"!\")[0].split(\",\")[0].split(\";\")[0].strip()\n",
    "\n",
    "def extract_branch_1_name(file_path):\n",
    "    with open(file_path, 'r') as f:\n",
    "        lines = f.readlines()\n",
    "\n",
    "    # Step 1: Get Branch List Name from AirLoopHVAC object\n",
    "    for i, line in enumerate(lines):\n",
    "        if line.strip().startswith(\"AirLoopHVAC,\"):\n",
    "            branch_list_line = lines[i + 5]\n",
    "            branch_list_name = clean_idf_value(branch_list_line)\n",
    "            break\n",
    "    else:\n",
    "        raise ValueError(\"AirLoopHVAC object not found.\")\n",
    "\n",
    "    # Step 2: Get Branch 1 Name from BranchList\n",
    "    for i, line in enumerate(lines):\n",
    "        if line.strip().startswith(\"BranchList,\"):\n",
    "            if i + 1 < len(lines):\n",
    "                name_line = clean_idf_value(lines[i + 1])\n",
    "                if name_line == branch_list_name:\n",
    "                    branch_1_line = lines[i + 2]\n",
    "                    branch_1_name = clean_idf_value(branch_1_line)\n",
    "                    return branch_1_name\n",
    "\n",
    "    raise ValueError(\"BranchList or Branch 1 Name not found.\")\n",
    "\n",
    "def get_branch_lines(file_path, branch_name):\n",
    "    with open(file_path, 'r') as f:\n",
    "        lines = f.readlines()\n",
    "\n",
    "    branch_lines = []\n",
    "    found = False\n",
    "    for i, line in enumerate(lines):\n",
    "        if line.strip().startswith(\"Branch,\"):\n",
    "            next_line = clean_idf_value(lines[i + 1]) if i + 1 < len(lines) else \"\"\n",
    "            if next_line == branch_name:\n",
    "                found = True\n",
    "                branch_lines.append(line)\n",
    "                j = i + 1\n",
    "                while j < len(lines):\n",
    "                    branch_lines.append(lines[j])\n",
    "                    if \";\" in lines[j]:\n",
    "                        break\n",
    "                    j += 1\n",
    "                break\n",
    "\n",
    "    if not found:\n",
    "        raise ValueError(f\"Branch object with name '{branch_name}' not found.\")\n",
    "\n",
    "    return branch_lines\n",
    "\n",
    "# Example usage\n",
    "file_path = idf_file\n",
    "branch_name = extract_branch_1_name(file_path)\n",
    "print(\"Branch 1 Name:\", branch_name)\n",
    "\n",
    "branch_lines = get_branch_lines(file_path, branch_name)\n",
    "\n",
    "print(\"\\nFull Branch Object:\\n\")\n",
    "print(\"\".join(branch_lines))"
   ]
  },
  {
   "cell_type": "code",
   "execution_count": 7,
   "metadata": {},
   "outputs": [
    {
     "name": "stdout",
     "output_type": "stream",
     "text": [
      "Fan outlet node: Cool Inlet Node\n"
     ]
    }
   ],
   "source": [
    "## Collecting node name for Fan Outlet Node\n",
    "for i in range(len(branch_lines)):\n",
    "    if \"Fan\" in branch_lines[i]:\n",
    "        fan_outlet_node = branch_lines[i + 3].split(\"!\")[0].split(\",\")[0].strip()\n",
    "        break\n",
    "\n",
    "print(\"Fan outlet node:\", fan_outlet_node)"
   ]
  },
  {
   "cell_type": "markdown",
   "metadata": {},
   "source": [
    "## 4. Include Desiccant Dehumidier as a component to main AirLoopHVAC Branch\n",
    "- We will add Dehumidifier:Desiccant:NoFans object just before Coil:Cooling:Water\n",
    "- We need to insert 4 lines-- object, object name, inlet node, outlet node.\n",
    "\n",
    "We will use the branch_lines copied in earlier section. The list of texts will be used to insert Desiccant objects. Later, we will insert the list texts into IDF file."
   ]
  },
  {
   "cell_type": "code",
   "execution_count": 8,
   "metadata": {},
   "outputs": [],
   "source": [
    "# Extracted Fan Node\n",
    "fan_outlet_node = fan_outlet_node\n",
    "# Required neDesiccant Object Outlet Node\n",
    "ProcessAirOutletNode = \"Process Air Outlet Node\"\n",
    "# Desiccant Dehumidifier Name\n",
    "DesiccantDehumidName = \"Desiccant 1\"\n",
    "\n",
    "def modify_branch_object(branch_lines):\n",
    "    \"\"\"Insert Desiccant before Coil:Cooling:Water and update inlet to Coil dynamically.\"\"\"\n",
    "    \n",
    "    # Build modified lines inserting desiccant with dynamic inlet node\n",
    "    modified = []\n",
    "    i = 0\n",
    "    while i < len(branch_lines):\n",
    "        line = branch_lines[i]\n",
    "\n",
    "        if \"Coil:Cooling:Water\" in line:\n",
    "            # Insert desiccant block BEFORE this line\n",
    "            desiccant_block = [\n",
    "                \"    Dehumidifier:Desiccant:NoFans,  !- Component 11 Object Type\\n\",\n",
    "                f\"    {DesiccantDehumidName},                    !- Component 11 Name\\n\",\n",
    "                f\"    {fan_outlet_node},              !- Component 11 Inlet Node Name\\n\",\n",
    "                f\"    {ProcessAirOutletNode},         !- Component 11 Outlet Node Name\\n\"\n",
    "            ]\n",
    "            modified.extend(desiccant_block)\n",
    "\n",
    "            # Add current and next lines (coil type and coil name)\n",
    "            modified.append(branch_lines[i])       # Coil:Cooling:Water line\n",
    "            modified.append(branch_lines[i + 1])   # Coil name line\n",
    "\n",
    "            # Replace coil inlet node with Process Air Outlet Node\n",
    "            modified.append(f\"    {ProcessAirOutletNode},        !- Component 3 Inlet Node Name\\n\")\n",
    "            i += 3  # Skip original coil inlet node line (replaced)\n",
    "\n",
    "        else:\n",
    "            modified.append(line)\n",
    "            i += 1\n",
    "\n",
    "    return modified"
   ]
  },
  {
   "cell_type": "code",
   "execution_count": 9,
   "metadata": {},
   "outputs": [
    {
     "data": {
      "text/plain": [
       "['Branch,\\n',\n",
       " '    Air Loop HVAC Main Branch,  !- Name\\n',\n",
       " '    ,                        !- Pressure Drop Curve Name\\n',\n",
       " '    AirLoopHVAC:OutdoorAirSystem,  !- Component 1 Object Type\\n',\n",
       " '    OA System,               !- Component 1 Name\\n',\n",
       " '    Sup Inlet Node,          !- Component 1 Inlet Node Name\\n',\n",
       " '    Mixwd Air Node,          !- Component 1 Outlet Node Name\\n',\n",
       " '    Fan:VariableVolume,      !- Component 2 Object Type\\n',\n",
       " '    Var Spd Fan,             !- Component 2 Name\\n',\n",
       " '    Mixwd Air Node,          !- Component 2 Inlet Node Name\\n',\n",
       " '    Cool Inlet Node,         !- Component 2 Outlet Node Name\\n',\n",
       " '    Dehumidifier:Desiccant:NoFans,  !- Component 11 Object Type\\n',\n",
       " '    Desiccant 1,                    !- Component 11 Name\\n',\n",
       " '    Cool Inlet Node,              !- Component 11 Inlet Node Name\\n',\n",
       " '    Process Air Outlet Node,         !- Component 11 Outlet Node Name\\n',\n",
       " '    Coil:Cooling:Water,      !- Component 3 Object Type\\n',\n",
       " '    CHW Clg Coil,            !- Component 3 Name\\n',\n",
       " '    Process Air Outlet Node,        !- Component 3 Inlet Node Name\\n',\n",
       " '    Cool Outlet Node,        !- Component 3 Outlet Node Name\\n',\n",
       " '    Coil:Heating:Fuel,       !- Component 4 Object Type\\n',\n",
       " '    Gas Htg Coil,            !- Component 4 Name\\n',\n",
       " '    Cool Outlet Node,        !- Component 4 Inlet Node Name\\n',\n",
       " '    Sup Outlet Node;         !- Component 4 Outlet Node Name\\n']"
      ]
     },
     "execution_count": 9,
     "metadata": {},
     "output_type": "execute_result"
    }
   ],
   "source": [
    "modify_branch_object(branch_lines)"
   ]
  },
  {
   "cell_type": "code",
   "execution_count": 10,
   "metadata": {},
   "outputs": [],
   "source": [
    "def update_idf_with_modified_branch(file_path, branch_name, modified_branch_lines):\n",
    "    with open(file_path, 'r') as f:\n",
    "        lines = f.readlines()\n",
    "\n",
    "    start_idx = None\n",
    "    end_idx = None\n",
    "\n",
    "    # Find start and end index of the branch object to replace\n",
    "    for i, line in enumerate(lines):\n",
    "        if line.strip().startswith(\"Branch,\"):\n",
    "            next_line = clean_idf_value(lines[i + 1]) if i + 1 < len(lines) else \"\"\n",
    "            if next_line == branch_name:\n",
    "                start_idx = i\n",
    "                # Find end index by locating the line with semicolon\n",
    "                for j in range(i, len(lines)):\n",
    "                    if ';' in lines[j]:\n",
    "                        end_idx = j\n",
    "                        break\n",
    "                break\n",
    "\n",
    "    if start_idx is None or end_idx is None:\n",
    "        raise ValueError(f\"Branch object '{branch_name}' not found in IDF file.\")\n",
    "\n",
    "    # Replace old branch lines with modified ones\n",
    "    new_lines = lines[:start_idx] + modified_branch_lines + lines[end_idx + 1:]\n",
    "\n",
    "    # Write back to file\n",
    "    with open(file_path, 'w') as f:\n",
    "        f.writelines(new_lines)"
   ]
  },
  {
   "cell_type": "code",
   "execution_count": 11,
   "metadata": {},
   "outputs": [],
   "source": [
    "branch_name = extract_branch_1_name(file_path)\n",
    "branch_lines = get_branch_lines(file_path, branch_name)\n",
    "modified_branch_lines = modify_branch_object(branch_lines)\n",
    "update_idf_with_modified_branch(file_path, branch_name, modified_branch_lines)"
   ]
  },
  {
   "cell_type": "markdown",
   "metadata": {},
   "source": [
    "## 5. Insert Desiccant Dehumidifier, Regeneration Fan and Regeneration Heater objects into IDF file\n",
    "\n",
    "- Add the fan_outlet_node or \"Component 2 Outlet Node\" from Branch object to \"Process Air Inlet Node\" of Dehumidifier:Desiccant:NoFan object\n",
    "\n",
    "- Add \"Regeneration Fan Inlet Node\" from Dehumidifier:Desiccant:NoFans to \"Air Inlet Node\" of Regeneration Fan (Fan:VariableVolume) object\n",
    "- Add \"Air Inlet Node\" from \"Desiccant Regen Coil\" object to \"Air Outlet Node\" of \"Desiccant Regen Fan\" object\n",
    "\n",
    "- Add \"Air Outlet Node\" of the \"Desiccant Regen Fan\" (Fan:VariableVolume) to \"Air Inlet Node\" of this Regeneration heating object (Coil:Heating:Fuel).  \n",
    "- Add \"Process Air Outlet Node\" of Dehumidifier:Desiccant as \"Air Outlet Node\" to heating coil\n"
   ]
  },
  {
   "cell_type": "code",
   "execution_count": 12,
   "metadata": {},
   "outputs": [],
   "source": [
    "## Used defined Nodes for new objects\n",
    "RegenCoilOutNode = \"Regen Coil Out Node\"\n",
    "RegenerationFanInletNode = \"Regeneration Fan Inlet Node\"\n",
    "RegenFanOutletNode = \"Regen Fan Outlet Node\"\n",
    "\n",
    "# Require Regen fan and Regen Heating object name\n",
    "DesiccantRegenCoilName = \"Desiccant Regen Coil\"\n",
    "DesiccantRegenFanName = \"Desiccant Regen Fan\"\n",
    "\n",
    "def append_objects_to_idf(file_path, fan_outlet_node):\n",
    "    # Read the original IDF file lines\n",
    "    with open(file_path, 'r') as f:\n",
    "        lines = f.readlines()\n",
    "\n",
    "    # Prepare the desiccant object block with dynamic inlet node\n",
    "    desiccant_object = [\n",
    "        \"Dehumidifier:Desiccant:NoFans,\\n\",\n",
    "        f\"    {DesiccantDehumidName},             !- Name\\n\",\n",
    "        \"    Always On,               !- Availability Schedule Name\\n\",\n",
    "        f\"    {fan_outlet_node},           !- Process Air Inlet Node Name\\n\",\n",
    "        f\"    {ProcessAirOutletNode}, !- Process Air Outlet Node Name\\n\",\n",
    "        f\"    {RegenCoilOutNode},     !- Regeneration Air Inlet Node Name\\n\",\n",
    "        f\"    {RegenerationFanInletNode},  !- Regeneration Fan Inlet Node Name\\n\",\n",
    "        \"    LeavingMaximumHumidityRatioSetpoint,  !- Control Type\\n\",\n",
    "        \"    0.0074,                    !- Leaving Maximum Humidity Ratio Setpoint {kgWater/kgDryAir}\\n\",\n",
    "        \"    0.35,                     !- Nominal Process Air Flow Rate {m3/s}\\n\",\n",
    "        \"    2.5,                     !- Nominal Process Air Velocity {m/s}\\n\",\n",
    "        \"    10,                      !- Rotor Power {W}\\n\",\n",
    "        \"    Coil:Heating:Fuel,       !- Regeneration Coil Object Type\\n\",\n",
    "        f\"    {DesiccantRegenCoilName},    !- Regeneration Coil Name\\n\",\n",
    "        \"    Fan:VariableVolume,      !- Regeneration Fan Object Type\\n\",\n",
    "        f\"    {DesiccantRegenFanName},     !- Regeneration Fan Name\\n\",\n",
    "        \"    DEFAULT;                 !- Performance Model Type\\n\"\n",
    "    ]\n",
    "\n",
    "    fan_block = [\n",
    "        \"Fan:VariableVolume,\\n\",\n",
    "        f\"    {DesiccantRegenFanName},     !- Name\\n\",\n",
    "        \"    Always On,               !- Availability Schedule Name\\n\",\n",
    "        \"    0.7,                     !- Fan Total Efficiency\\n\",\n",
    "        \"    700.0,                   !- Pressure Rise {Pa}\\n\",\n",
    "        \"    0.35,                     !- Maximum Flow Rate {m3/s}\\n\",\n",
    "        \"    FixedFlowRate,           !- Fan Power Minimum Flow Rate Input Method\\n\",\n",
    "        \"    ,                        !- Fan Power Minimum Flow Fraction\\n\",\n",
    "        \"    0.0,                     !- Fan Power Minimum Air Flow Rate {m3/s}\\n\",\n",
    "        \"    0.9,                     !- Motor Efficiency\\n\",\n",
    "        \"    1.0,                     !- Motor In Airstream Fraction\\n\",\n",
    "        \"    0,                       !- Fan Power Coefficient 1\\n\",\n",
    "        \"    1,                       !- Fan Power Coefficient 2\\n\",\n",
    "        \"    0,                       !- Fan Power Coefficient 3\\n\",\n",
    "        \"    0,                       !- Fan Power Coefficient 4\\n\",\n",
    "        \"    0,                       !- Fan Power Coefficient 5\\n\",\n",
    "        f\"    {RegenerationFanInletNode},  !- Air Inlet Node Name\\n\",\n",
    "        f\"    {RegenFanOutletNode};   !- Air Outlet Node Name\\n\"\n",
    "    ]\n",
    "\n",
    "    heating_coil_object = [\n",
    "        \"Coil:Heating:Fuel,\\n\",\n",
    "        f\"     {DesiccantRegenCoilName},    !- Name\\n\",\n",
    "        \"      Always On,               !- Availability Schedule Name\\n\",\n",
    "        \"      NaturalGas,              !- Fuel Type\\n\",\n",
    "        \"      0.80,                    !- Burner Efficiency\\n\",\n",
    "        \"      40000,                  !- Nominal Capacity {W}\\n\",\n",
    "        f\"    {RegenFanOutletNode},   !- Air Inlet Node Name\\n\",\n",
    "        f\"    {RegenCoilOutNode};     !- Air Outlet Node Name\\n\"\n",
    "    ]\n",
    "\n",
    "    # Append desiccant object at the end of the lines\n",
    "    lines.extend(desiccant_object)\n",
    "    # Append Regen Heater object at the end of the lines\n",
    "    lines.extend(heating_coil_object)\n",
    "    # Append Regen fan object at the end of the lines\n",
    "    lines.extend(fan_block)\n",
    "\n",
    "    # Save to the new file\n",
    "    with open(file_path, \"w\") as f:\n",
    "        f.writelines(lines)\n",
    "\n",
    "    print(f\"Modified IDF saved as '{file_path}'\")"
   ]
  },
  {
   "cell_type": "code",
   "execution_count": 13,
   "metadata": {},
   "outputs": [
    {
     "name": "stdout",
     "output_type": "stream",
     "text": [
      "Modified IDF saved as 'CDD-watercoil-Nodehumid_copied.idf'\n"
     ]
    }
   ],
   "source": [
    "file_path = file_path\n",
    "fan_outlet_node = fan_outlet_node  # Your extracted node name here\n",
    "\n",
    "append_objects_to_idf(file_path, fan_outlet_node)"
   ]
  },
  {
   "cell_type": "markdown",
   "metadata": {},
   "source": [
    "## 6. Remove the old OutdoorAir:NodeList\n",
    "- Find the OutdoorAir:NodeList and look for Nodes' name. \n",
    "- Copy the Outdoor Air Inlet Node (e.g OA Inlet Node) and remove OutdoorAir:NodeList\n",
    "\n",
    "- Create new OutdoorAir:NodeList name it as OutsideAirInletNodes (user defined name)\n",
    "- Add \"Process Air Inlet Node Name\" and \"Regeneration Fan Inlet Node Name\" to this NodeList\n",
    "\n",
    "The following two Objects will be inserted into IDF file\n",
    "<pre>\n",
    "OutdoorAir:NodeList,\n",
    "    OutsideAirInletNodes;    !- Node or NodeList Name 1\n",
    "\n",
    "NodeList,\n",
    "   OutsideAirInletNodes,               !- Name\n",
    "   OA Inlet Node,                      !- Node 1 Name\n",
    "   Regeneration Fan Inlet Node;        !- Node 2 Name\n",
    "</pre>"
   ]
  },
  {
   "cell_type": "code",
   "execution_count": 14,
   "metadata": {},
   "outputs": [
    {
     "name": "stdout",
     "output_type": "stream",
     "text": [
      "OutdoorAir:NodeList found at line 2594: OA Inlet Node\n",
      "OutdoorAir:NodeList found at line 2597: Chiller - Air Cooled Inlet Node For Condenser\n"
     ]
    }
   ],
   "source": [
    "def list_outdoor_air_nodelists(file_path):\n",
    "    with open(file_path, 'r') as f:\n",
    "        lines = f.readlines()\n",
    "\n",
    "    for i, line in enumerate(lines):\n",
    "        if line.strip().startswith(\"OutdoorAir:NodeList,\"):\n",
    "            # Node name is usually the next line, strip comments and whitespace\n",
    "            node_name_line = lines[i + 1].split(\"!\")[0].strip().rstrip(\";\")\n",
    "            print(f\"OutdoorAir:NodeList found at line {i + 1}: {node_name_line}\")\n",
    "\n",
    "# Example usage:\n",
    "list_outdoor_air_nodelists(file_path)"
   ]
  },
  {
   "cell_type": "code",
   "execution_count": 15,
   "metadata": {},
   "outputs": [],
   "source": [
    "# Now Find the one OutdoorAir:NodeList which is attached to main AirLoopHVAC\n",
    "\n",
    "def remove_specific_outdoor_air_nodelist(file_path, node_list_name_to_remove):\n",
    "    with open(file_path, 'r') as f:\n",
    "        lines = f.readlines()\n",
    "\n",
    "    new_lines = []\n",
    "    skip_block = False\n",
    "    for i, line in enumerate(lines):\n",
    "        if line.strip().startswith(\"OutdoorAir:NodeList,\"):\n",
    "            # Check next line node list name\n",
    "            next_line = lines[i + 1].split(\"!\")[0].strip().rstrip(\";\")\n",
    "            if next_line == node_list_name_to_remove:\n",
    "                skip_block = True\n",
    "                continue\n",
    "        if skip_block:\n",
    "            if \";\" in line:\n",
    "                skip_block = False\n",
    "            continue\n",
    "        new_lines.append(line)\n",
    "\n",
    "    # Save modified file\n",
    "    with open(file_path, 'w') as f:\n",
    "        f.writelines(new_lines)\n",
    "\n",
    "    print(f\"Removed OutdoorAir:NodeList '{node_list_name_to_remove}' and saved as '{file_path}'\")"
   ]
  },
  {
   "cell_type": "code",
   "execution_count": 16,
   "metadata": {},
   "outputs": [
    {
     "name": "stdout",
     "output_type": "stream",
     "text": [
      "Removed OutdoorAir:NodeList 'OA Inlet Node' and saved as 'CDD-watercoil-Nodehumid_copied.idf'\n"
     ]
    }
   ],
   "source": [
    "node_list_name = \"OA Inlet Node\"  # replace with the actual NodeList name to remove\n",
    "\n",
    "remove_specific_outdoor_air_nodelist(file_path, node_list_name)"
   ]
  },
  {
   "cell_type": "code",
   "execution_count": 17,
   "metadata": {},
   "outputs": [],
   "source": [
    "# Required NodeList Name \n",
    "OutdoorAirNodeListName = \"OutsideAirInletNodes\"\n",
    "# Add Regen Fan Inlet Node to the second Node of OutdoorAir NodeList\n",
    "\n",
    "def append_new_outdoor_air_nodelist(file_path):\n",
    "    new_objects = [\n",
    "        \"\\n! -- New OutdoorAir:NodeList and NodeList for desiccant system\\n\",\n",
    "        \"OutdoorAir:NodeList,\\n\",\n",
    "        f\"    {OutdoorAirNodeListName};    !- Node or NodeList Name 1\\n\\n\",\n",
    "        \"NodeList,\\n\",\n",
    "        f\"    {OutdoorAirNodeListName},               !- Name\\n\",\n",
    "        f\"    {node_list_name},                      !- Node 1 Name\\n\",\n",
    "        f\"    {RegenerationFanInletNode};        !- Node 2 Name\\n\"\n",
    "    ]\n",
    "    with open(file_path, 'a') as f:\n",
    "        f.writelines(new_objects)\n",
    "    print(f\"Added new OutdoorAir:NodeList and NodeList to '{file_path}'\")"
   ]
  },
  {
   "cell_type": "code",
   "execution_count": 18,
   "metadata": {},
   "outputs": [
    {
     "name": "stdout",
     "output_type": "stream",
     "text": [
      "Added new OutdoorAir:NodeList and NodeList to 'CDD-watercoil-Nodehumid_copied.idf'\n"
     ]
    }
   ],
   "source": [
    "append_new_outdoor_air_nodelist(file_path)"
   ]
  },
  {
   "cell_type": "markdown",
   "metadata": {},
   "source": [
    "## 7. Replace Coil:Cooling:Water objects' \"Air Inlet Node Name\"\n",
    "- Replace \"Air Inlet Node\" with \"Process Air Outlet Node\" of Dehumidifier:Desiccant:NoFans object"
   ]
  },
  {
   "cell_type": "code",
   "execution_count": 19,
   "metadata": {},
   "outputs": [],
   "source": [
    "def update_cooling_coil_air_inlet(file_path, ProcessAirOutletNode):\n",
    "    with open(file_path, 'r') as f:\n",
    "        lines = f.readlines()\n",
    "\n",
    "    for i in range(len(lines)):\n",
    "        if lines[i].strip().startswith(\"Coil:Cooling:Water,\"):\n",
    "            target_line_index = i + 12\n",
    "            if target_line_index < len(lines):\n",
    "                lines[target_line_index] = f\"    {ProcessAirOutletNode},         !- Air Inlet Node Name\\n\"\n",
    "            else:\n",
    "                print(\"Cannot fine line 12.\")\n",
    "            break\n",
    "    else:\n",
    "        print(\"Coil:Cooling:Water object not found.\")\n",
    "\n",
    "    with open(file_path, 'w') as f:\n",
    "        f.writelines(lines)\n",
    "\n",
    "    print(\"IDF file updated.\")"
   ]
  },
  {
   "cell_type": "code",
   "execution_count": 20,
   "metadata": {},
   "outputs": [
    {
     "name": "stdout",
     "output_type": "stream",
     "text": [
      "IDF file updated.\n"
     ]
    }
   ],
   "source": [
    "update_cooling_coil_air_inlet(file_path, ProcessAirOutletNode)"
   ]
  },
  {
   "cell_type": "markdown",
   "metadata": {},
   "source": [
    "## 8. Replace SetpointManager:SingleZone:Reheat objects' \"Setpoint Node or NodeList Name\"\n",
    "- There are more than one SetpointManager:SingleZone:Reheat object. We will find the one whose \"Setpoint Node or NodeList Name\" is main AirLoopHVAC Fan's outlet Node (we copied this node as fan_outlet_node).\n",
    "- Replace this node with \"Process Air Outlet Node\" of Desiccant object. "
   ]
  },
  {
   "cell_type": "code",
   "execution_count": 21,
   "metadata": {},
   "outputs": [],
   "source": [
    "def replace_setpoint_node(file_path, fan_outlet_node, ProcessAirOutletNode):\n",
    "    with open(file_path, 'r') as f:\n",
    "        lines = f.readlines()\n",
    "\n",
    "    new_lines = []\n",
    "    i = 0\n",
    "    while i < len(lines):\n",
    "        line = lines[i]\n",
    "        new_lines.append(line)\n",
    "\n",
    "        if line.strip().startswith(\"SetpointManager:SingleZone:Reheat,\"):\n",
    "            block = [line]\n",
    "            i += 1\n",
    "            while i < len(lines):\n",
    "                block.append(lines[i])\n",
    "                if \";\" in lines[i]:\n",
    "                    break\n",
    "                i += 1\n",
    "\n",
    "            # Check if the last line of the block contains the target node\n",
    "            if fan_outlet_node in block[-1]:\n",
    "                block[-1] = f\"    {ProcessAirOutletNode};         !- Setpoint Node or NodeList Name\\n\"\n",
    "\n",
    "            new_lines = new_lines[:-1] + block  # replace the last added line with full updated block\n",
    "        i += 1\n",
    "\n",
    "    with open(file_path, 'w') as f:\n",
    "        f.writelines(new_lines)\n",
    "\n",
    "    print(f\"Updated setpoint node '{fan_outlet_node}' to '{ProcessAirOutletNode}' in the IDF file.\")"
   ]
  },
  {
   "cell_type": "code",
   "execution_count": 22,
   "metadata": {},
   "outputs": [
    {
     "name": "stdout",
     "output_type": "stream",
     "text": [
      "Updated setpoint node 'Cool Inlet Node' to 'Process Air Outlet Node' in the IDF file.\n"
     ]
    }
   ],
   "source": [
    "replace_setpoint_node(file_path, fan_outlet_node, ProcessAirOutletNode)"
   ]
  },
  {
   "cell_type": "markdown",
   "metadata": {},
   "source": [
    "## 9. Running the simulation with EnergyPlus"
   ]
  },
  {
   "cell_type": "code",
   "execution_count": 23,
   "metadata": {},
   "outputs": [
    {
     "name": "stdout",
     "output_type": "stream",
     "text": [
      "Simulation for CDD-watercoil-Nodehumid_copied.idf completed successfully.\n",
      "['C:\\\\Users\\\\Jayedi Aman\\\\OneDrive - University of Missouri\\\\Desktop\\\\OPENSTUDIO\\\\CDD-Desiccant\\\\New folder\\\\results_CDD-watercoil-Nodehumid_copied']\n"
     ]
    }
   ],
   "source": [
    "import os\n",
    "import subprocess\n",
    "\n",
    "output_directory_list = []\n",
    "\n",
    "def run_energyplus_single(idf_file, epw_file, eplus_dir):\n",
    "    base_name = os.path.splitext(os.path.basename(idf_file))[0]\n",
    "    idf_directory = os.path.dirname(os.path.abspath(idf_file))\n",
    "    output_directory = os.path.join(idf_directory, f\"results_{base_name}\")\n",
    "\n",
    "    if not os.path.exists(output_directory):\n",
    "        os.makedirs(output_directory)\n",
    "\n",
    "    output_directory_list.append(output_directory)\n",
    "\n",
    "    energyplus_exe = os.path.join(eplus_dir, \"energyplus.exe\")\n",
    "\n",
    "    cl_st = [\n",
    "        energyplus_exe,\n",
    "        \"--readvars\",\n",
    "        f\"--output-directory={output_directory}\",\n",
    "        f\"--weather={epw_file}\",\n",
    "        idf_file,\n",
    "    ]\n",
    "\n",
    "    try:\n",
    "        result = subprocess.run(cl_st, capture_output=True, text=True, check=True)\n",
    "        print(f\"Simulation for {base_name}.idf completed successfully.\")\n",
    "    except subprocess.CalledProcessError as e:\n",
    "        print(f\"Simulation for {base_name}.idf failed.\")\n",
    "        print(\"Error:\", e.stderr)\n",
    "        print(f\"Check log at: {os.path.join(output_directory, 'eplusout.err')}\")\n",
    "\n",
    "# idf_file = \"CDD-watercoil-Nodehumid_copied.idf\"\n",
    "idf_file = idf_file\n",
    "\n",
    "epw_file = r\"C:\\Users\\Jayedi Aman\\OneDrive - University of Missouri\\Desktop\\OPENSTUDIO\\weatherfiles\\USA_MO_Springfield.Rgnl.AP.724400_TMY3.epw\"\n",
    "eplus_dir = r\"C:\\EnergyPlusV22-2-0\"\n",
    "\n",
    "run_energyplus_single(idf_file, epw_file, eplus_dir)\n",
    "print(output_directory_list)"
   ]
  },
  {
   "cell_type": "markdown",
   "metadata": {},
   "source": [
    "## 10. Getting results"
   ]
  },
  {
   "cell_type": "code",
   "execution_count": 24,
   "metadata": {},
   "outputs": [
    {
     "name": "stdout",
     "output_type": "stream",
     "text": [
      "['C:\\\\Users\\\\Jayedi Aman\\\\OneDrive - University of Missouri\\\\Desktop\\\\OPENSTUDIO\\\\CDD-Desiccant\\\\New folder\\\\results_CDD-watercoil-Nodehumid_copied']\n"
     ]
    }
   ],
   "source": [
    "## Printing the new created folders with simulation results \n",
    "print(output_directory_list)"
   ]
  },
  {
   "cell_type": "code",
   "execution_count": 25,
   "metadata": {},
   "outputs": [
    {
     "name": "stdout",
     "output_type": "stream",
     "text": [
      "                              Folder Name     File Name  Heating Load (GJ)  \\\n",
      "0  results_CDD-watercoil-Nodehumid_copied  eplustbl.htm            1505.78   \n",
      "\n",
      "   Cooling Load (GJ)  Fan Load (GJ)  Total HVAC Load (GJ)  \n",
      "0             579.45         237.28               2322.51  \n"
     ]
    },
    {
     "name": "stderr",
     "output_type": "stream",
     "text": [
      "C:\\Users\\Jayedi Aman\\AppData\\Local\\Temp\\ipykernel_8624\\1404601805.py:68: FutureWarning: The behavior of DataFrame concatenation with empty or all-NA entries is deprecated. In a future version, this will no longer exclude empty or all-NA columns when determining the result dtypes. To retain the old behavior, exclude the relevant entries before the concat operation.\n",
      "  df_results = pd.concat([df_results, new_row], ignore_index=True)\n"
     ]
    }
   ],
   "source": [
    "import os\n",
    "import glob\n",
    "import pandas as pd\n",
    "from bs4 import BeautifulSoup\n",
    "\n",
    "def htm_file_list(directory):\n",
    "    \"\"\"Returns a list of .htm files in the given directory.\"\"\"\n",
    "    if not os.path.isdir(directory):\n",
    "        raise NotADirectoryError(f\"{directory} is not a valid directory.\")\n",
    "    return glob.glob(os.path.join(directory, \"*.htm\"))\n",
    "\n",
    "\n",
    "def extract_heating_cooling_loads(html_file):\n",
    "    \"\"\"Extracts total heating and cooling load from an EnergyPlus HTML report.\"\"\"\n",
    "    with open(html_file, 'r', encoding='utf-8') as file:\n",
    "        soup = BeautifulSoup(file, 'html.parser')\n",
    "\n",
    "    # Locate \"End Uses\" table\n",
    "    end_uses_tag = soup.find('b', string=\"End Uses\")\n",
    "    if not end_uses_tag:\n",
    "        return None, None  # No table found, return None values\n",
    "\n",
    "    target_table = end_uses_tag.find_next('table')\n",
    "    if not target_table:\n",
    "        return None, None  # No table found\n",
    "\n",
    "    # Initialize load values\n",
    "    heating_load = 0.0\n",
    "    cooling_load = 0.0\n",
    "    fan_load = 0.0\n",
    "\n",
    "    # Process table rows\n",
    "    rows = target_table.find_all('tr')[1:]  # Skip header row\n",
    "    for row in rows:\n",
    "        cols = row.find_all('td')\n",
    "        end_use = cols[0].text.strip().lower()\n",
    "\n",
    "        if end_use == \"heating\":\n",
    "            heating_load = sum(float(col.text.strip()) for col in cols[1:])\n",
    "        elif end_use == \"cooling\":\n",
    "            cooling_load = sum(float(col.text.strip()) for col in cols[1:])\n",
    "        elif end_use == \"fans\":\n",
    "            fan_load = sum(float(col.text.strip()) for col in cols[1:])\n",
    "\n",
    "\n",
    "    return heating_load, cooling_load, fan_load\n",
    "\n",
    "# Initialize DataFrame\n",
    "df_results = pd.DataFrame(columns=['Folder Name', 'File Name', 'Heating Load (GJ)', 'Cooling Load (GJ)', 'Fan Load (GJ)', 'Total HVAC Load (GJ)'])\n",
    "\n",
    "# Process all output directories\n",
    "for folder in output_directory_list:\n",
    "    folder = os.path.abspath(folder)  # Ensure absolute path\n",
    "    try:\n",
    "        htm_files = htm_file_list(folder)\n",
    "        folder_name = os.path.basename(folder)  # Extract the last directory name\n",
    "\n",
    "        for htm_file in htm_files:\n",
    "\n",
    "            heating, cooling, fan = extract_heating_cooling_loads(htm_file)\n",
    "            total = float(heating) + float(cooling) + float(fan)\n",
    "\n",
    "            if heating is not None and cooling is not None:\n",
    "                new_row = pd.DataFrame([[folder_name, os.path.basename(htm_file), heating, cooling, fan, total]], \n",
    "                       columns=['Folder Name', 'File Name', 'Heating Load (GJ)', 'Cooling Load (GJ)', 'Fan Load (GJ)', 'Total HVAC Load (GJ)'])\n",
    "\n",
    "                if not new_row.isna().all().all():  # Check if the new row is not all NaN\n",
    "                    df_results = pd.concat([df_results, new_row], ignore_index=True)\n",
    "\n",
    "    except NotADirectoryError as e:\n",
    "        print(e)\n",
    "\n",
    "# Save results to a CSV file\n",
    "output_csv = os.path.join(os.getcwd(), \"heating_cooling_loads.csv\")\n",
    "df_results.to_csv(output_csv, index=False)\n",
    "\n",
    "# Display final DataFrame\n",
    "print(df_results)"
   ]
  },
  {
   "cell_type": "code",
   "execution_count": 26,
   "metadata": {},
   "outputs": [
    {
     "data": {
      "text/html": [
       "<div>\n",
       "<style scoped>\n",
       "    .dataframe tbody tr th:only-of-type {\n",
       "        vertical-align: middle;\n",
       "    }\n",
       "\n",
       "    .dataframe tbody tr th {\n",
       "        vertical-align: top;\n",
       "    }\n",
       "\n",
       "    .dataframe thead th {\n",
       "        text-align: right;\n",
       "    }\n",
       "</style>\n",
       "<table border=\"1\" class=\"dataframe\">\n",
       "  <thead>\n",
       "    <tr style=\"text-align: right;\">\n",
       "      <th></th>\n",
       "      <th>Folder Name</th>\n",
       "      <th>File Name</th>\n",
       "      <th>Heating Load (GJ)</th>\n",
       "      <th>Cooling Load (GJ)</th>\n",
       "      <th>Fan Load (GJ)</th>\n",
       "      <th>Total HVAC Load (GJ)</th>\n",
       "    </tr>\n",
       "  </thead>\n",
       "  <tbody>\n",
       "    <tr>\n",
       "      <th>0</th>\n",
       "      <td>results_CDD-watercoil-Nodehumid_copied</td>\n",
       "      <td>eplustbl.htm</td>\n",
       "      <td>1505.78</td>\n",
       "      <td>579.45</td>\n",
       "      <td>237.28</td>\n",
       "      <td>2322.51</td>\n",
       "    </tr>\n",
       "  </tbody>\n",
       "</table>\n",
       "</div>"
      ],
      "text/plain": [
       "                              Folder Name     File Name  Heating Load (GJ)  \\\n",
       "0  results_CDD-watercoil-Nodehumid_copied  eplustbl.htm            1505.78   \n",
       "\n",
       "   Cooling Load (GJ)  Fan Load (GJ)  Total HVAC Load (GJ)  \n",
       "0             579.45         237.28               2322.51  "
      ]
     },
     "execution_count": 26,
     "metadata": {},
     "output_type": "execute_result"
    }
   ],
   "source": [
    "df_results"
   ]
  },
  {
   "cell_type": "markdown",
   "metadata": {},
   "source": []
  }
 ],
 "metadata": {
  "kernelspec": {
   "display_name": "Python 3",
   "language": "python",
   "name": "python3"
  },
  "language_info": {
   "codemirror_mode": {
    "name": "ipython",
    "version": 3
   },
   "file_extension": ".py",
   "mimetype": "text/x-python",
   "name": "python",
   "nbconvert_exporter": "python",
   "pygments_lexer": "ipython3",
   "version": "3.13.1"
  }
 },
 "nbformat": 4,
 "nbformat_minor": 2
}
